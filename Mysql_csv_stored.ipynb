{
 "cells": [
  {
   "cell_type": "code",
   "execution_count": 1,
   "id": "a655e5bb",
   "metadata": {},
   "outputs": [
    {
     "name": "stdout",
     "output_type": "stream",
     "text": [
      "Requirement already satisfied: mysql-connector-python==8.0.33 in e:\\imdb_2024_data_scraping_and_visualizations\\.venv\\lib\\site-packages (8.0.33)\n",
      "Requirement already satisfied: protobuf<=3.20.3,>=3.11.0 in e:\\imdb_2024_data_scraping_and_visualizations\\.venv\\lib\\site-packages (from mysql-connector-python==8.0.33) (3.20.3)\n"
     ]
    }
   ],
   "source": [
    "!pip install mysql-connector-python==8.0.33\n"
   ]
  },
  {
   "cell_type": "code",
   "execution_count": null,
   "id": "8325c528",
   "metadata": {},
   "outputs": [
    {
     "name": "stdout",
     "output_type": "stream",
     "text": [
      "('information_schema',)\n",
      "('movies_2024',)\n",
      "('mydatabase',)\n",
      "('mysql',)\n",
      "('performance_schema',)\n",
      "Table created successfully!\n",
      "Total rows read from CSV: 4521\n",
      "Index(['Unnamed: 0', 'Title', 'Genre', 'Rating', 'Voting', 'Duration'], dtype='object')\n",
      "Rows after cleaning: 4521\n",
      "CSV data inserted successfully!\n"
     ]
    }
   ],
   "source": [
    "import mysql.connector\n",
    "import pandas as pd \n",
    "\n",
    "mydb = mysql.connector.connect(\n",
    "    host=\"localhost\",\n",
    "    user=\"Shankar\",\n",
    "    password=\"NewPassword123!\"\n",
    ")\n",
    "\n",
    "mycursor = mydb.cursor()\n",
    "\n",
    "mycursor.execute(\"SHOW DATABASES\")\n",
    "for db in mycursor:\n",
    "    print(db)\n",
    "\n",
    "mydb.database = \"Movies_2024\"\n",
    "\n",
    "\n",
    "mycursor.execute(\"\"\"\n",
    "    CREATE TABLE IF NOT EXISTS Movies_2024 (\n",
    "        Title TEXT NOT NULL,\n",
    "        Genre TEXT NOT NULL,\n",
    "        Rating FLOAT NOT NULL,\n",
    "        Voting TEXT NOT NULL,\n",
    "        Duration TEXT NOT NULL\n",
    "    )\n",
    "\"\"\")\n",
    "\n",
    "print(\"Table created successfully!\")\n",
    "\n",
    "df=pd.read_csv('Genre_collections.csv')\n",
    "print(\"Total rows read from CSV:\", len(df))\n",
    "print(df.columns)\n",
    "# Clean column names to prevent header mismatches\n",
    "df.columns = df.columns.str.strip()\n",
    "#  Remove rows with any NULL values\n",
    "df.dropna(inplace=True)\n",
    "\n",
    "#  Remove duplicate rows\n",
    "df.drop_duplicates(inplace=True)\n",
    "\n",
    "\n",
    "print(\"Rows after cleaning:\", len(df))\n",
    "data = [\n",
    "    (row['Title'], row['Genre'], row['Rating'], row['Voting'], row['Duration'])\n",
    "    for index, row in df.iterrows()\n",
    "]\n",
    "sql = \"\"\"INSERT INTO Movies_2024 (Titles, Genre, Ratings, Voatings, Duration)\n",
    "    VALUES (%s, %s, %s, %s, %s)\"\"\"\n",
    "mycursor.executemany(sql, data)\n",
    "mydb.commit()\n",
    "\n",
    "print(\"CSV data inserted successfully!\")"
   ]
  }
 ],
 "metadata": {
  "kernelspec": {
   "display_name": ".venv",
   "language": "python",
   "name": "python3"
  },
  "language_info": {
   "codemirror_mode": {
    "name": "ipython",
    "version": 3
   },
   "file_extension": ".py",
   "mimetype": "text/x-python",
   "name": "python",
   "nbconvert_exporter": "python",
   "pygments_lexer": "ipython3",
   "version": "3.10.11"
  }
 },
 "nbformat": 4,
 "nbformat_minor": 5
}
