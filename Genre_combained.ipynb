{
 "cells": [
  {
   "cell_type": "code",
   "execution_count": 1,
   "id": "29b0d78e",
   "metadata": {},
   "outputs": [],
   "source": [
    "import pandas as pd"
   ]
  },
  {
   "cell_type": "code",
   "execution_count": 2,
   "id": "c4427441",
   "metadata": {},
   "outputs": [],
   "source": [
    "movies_csv= ['Action_df.csv', 'Comedy_df.csv', 'Crime_df.csv', 'Horror_df.csv','Mystery_df.csv']"
   ]
  },
  {
   "cell_type": "code",
   "execution_count": 3,
   "id": "759135f4",
   "metadata": {},
   "outputs": [],
   "source": [
    "df_combined = pd.concat([pd.read_csv(genre) for genre in movies_csv] , ignore_index=True)\n",
    "df_combined.to_csv('Genre_collections.csv', index=False)"
   ]
  }
 ],
 "metadata": {
  "kernelspec": {
   "display_name": ".venv",
   "language": "python",
   "name": "python3"
  },
  "language_info": {
   "codemirror_mode": {
    "name": "ipython",
    "version": 3
   },
   "file_extension": ".py",
   "mimetype": "text/x-python",
   "name": "python",
   "nbconvert_exporter": "python",
   "pygments_lexer": "ipython3",
   "version": "3.10.11"
  }
 },
 "nbformat": 4,
 "nbformat_minor": 5
}
